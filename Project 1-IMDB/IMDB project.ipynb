{
 "cells": [
  {
   "cell_type": "markdown",
   "id": "d1f26d1f-92e6-4578-8b72-9bb316c8c6c1",
   "metadata": {},
   "source": [
    "Student name: Bimal Kandel"
   ]
  },
  {
   "cell_type": "markdown",
   "id": "3f53aae6-3ad4-4da0-9a5c-cca7e31f1960",
   "metadata": {},
   "source": [
    "Write a program in Python to IMDb using the following method:\n",
    "\n",
    "1. Web scraping:\n",
    "Use a web scraping tool (like BeautifulSoup or Scrapy) to extract IMDb movie reviews.\n",
    "Ensure you gather relevant fields (e.g., review, name, date).\n",
    "\n",
    "2. Data Cleaning:\n",
    "Remove irrelevant data, empty reviews, and duplicates.\n",
    "Handle missing data appropriately\n",
    "3. Data Transformation (Optional/Advanced)\n",
    "\n",
    "4. Convert all text to lowercase.\n",
    "Optionally, perform text tokenization or stemming for future analysis.\n",
    "\n",
    "5. Prepare Data for Analysis:\n",
    "Store cleaned data in a structured format (CSV).\n",
    "Create a Jupyter notebook documenting your process with code, explanations,and necessary visualizations.\n",
    "5. Report:\n",
    "Summarize the steps taken in data acquisition, cleaning, and transformation.\n",
    "\n"
   ]
  },
  {
   "cell_type": "markdown",
   "id": "74fa5024-eb32-4188-9912-d94019536a01",
   "metadata": {},
   "source": [
    "This project is based upon webscrapping IMDBs 100 top ranking celebrities."
   ]
  },
  {
   "cell_type": "code",
   "execution_count": 120,
   "id": "af9f6720-4780-409c-8898-fe28550e9655",
   "metadata": {},
   "outputs": [],
   "source": [
    "# step 1: Importing Required Libraries\n",
    "import requests\n",
    "import json\n",
    "from bs4 import BeautifulSoup\n",
    "import pandas as pd\n"
   ]
  },
  {
   "cell_type": "markdown",
   "id": "1bd76a2d-10d8-431c-9c86-fd780717b608",
   "metadata": {},
   "source": [
    "step 2: Installing NLTK library for Complete Code with Text Lowercasing, Tokenization, and Stemming"
   ]
  },
  {
   "cell_type": "code",
   "execution_count": 105,
   "id": "8bf6a82d-d6fb-41de-bf65-f5c3dc7d78cc",
   "metadata": {},
   "outputs": [
    {
     "name": "stdout",
     "output_type": "stream",
     "text": [
      "Requirement already satisfied: nltk in /opt/anaconda3/lib/python3.11/site-packages (3.8.1)\n",
      "Requirement already satisfied: click in /opt/anaconda3/lib/python3.11/site-packages (from nltk) (8.1.7)\n",
      "Requirement already satisfied: joblib in /opt/anaconda3/lib/python3.11/site-packages (from nltk) (1.2.0)\n",
      "Requirement already satisfied: regex>=2021.8.3 in /opt/anaconda3/lib/python3.11/site-packages (from nltk) (2023.10.3)\n",
      "Requirement already satisfied: tqdm in /opt/anaconda3/lib/python3.11/site-packages (from nltk) (4.65.0)\n",
      "Note: you may need to restart the kernel to use updated packages.\n"
     ]
    }
   ],
   "source": [
    "pip install nltk"
   ]
  },
  {
   "cell_type": "markdown",
   "id": "208dda6d-540e-43dc-8868-bb5681d4c40f",
   "metadata": {},
   "source": [
    "step 3: Importing nltk library along with tokenize and stem"
   ]
  },
  {
   "cell_type": "code",
   "execution_count": 107,
   "id": "b9442d10-cd1e-4cd1-81ee-b393924479ef",
   "metadata": {},
   "outputs": [],
   "source": [
    "import nltk\n",
    "from nltk.tokenize import word_tokenize\n",
    "from nltk.stem import PorterStemmer\n"
   ]
  },
  {
   "cell_type": "markdown",
   "id": "dc925fd2-5d6a-4d35-a079-66bdf1825d9a",
   "metadata": {},
   "source": [
    "step 4 : Load the web link url and get request response. If error persists try to Set a proper User-Agent to make your request look like a browser request."
   ]
  },
  {
   "cell_type": "code",
   "execution_count": 108,
   "id": "c1ed6da9-60f9-41d8-916a-0048a4515c67",
   "metadata": {},
   "outputs": [
    {
     "name": "stdout",
     "output_type": "stream",
     "text": [
      "<Response [403]>\n"
     ]
    }
   ],
   "source": [
    "# got the forbidden response\n",
    "url = 'https://www.imdb.com/chart/starmeter/?ref_=nv_cel_m'\n",
    "resp = requests.get(url)\n",
    "print(resp)"
   ]
  },
  {
   "cell_type": "markdown",
   "id": "455ca822-7ae1-4403-8dae-fbbf1d44901a",
   "metadata": {},
   "source": [
    "Step 5: setting up user-agent to extract data from browser request. "
   ]
  },
  {
   "cell_type": "code",
   "execution_count": 109,
   "id": "86bae080-c390-4503-ac5c-0e4521805eed",
   "metadata": {},
   "outputs": [
    {
     "name": "stdout",
     "output_type": "stream",
     "text": [
      "HTTP Status Code: 200\n",
      "[]\n",
      "[]\n"
     ]
    }
   ],
   "source": [
    "import requests\n",
    "from bs4 import BeautifulSoup\n",
    "\n",
    "# Define a function for web scraping\n",
    "def scrape_imdb_starmeter(url):\n",
    "    headers = {\n",
    "        'User-Agent': 'Mozilla/5.0 (Windows NT 10.0; Win64; x64) AppleWebKit/537.36 (KHTML, like Gecko) Chrome/91.0.4472.124 Safari/537.36'\n",
    "    }\n",
    "\n",
    "    # Send a GET request to fetch the webpage content with headers\n",
    "    response = requests.get(url, headers=headers)\n",
    "    \n",
    "    # Print the HTTP status code for debugging\n",
    "    print(f\"HTTP Status Code: {response.status_code}\")\n",
    "    \n",
    "    # Check if the response is successful\n",
    "    if response.status_code != 200:\n",
    "        print(\"Failed to retrieve the webpage. Returning None.\")\n",
    "        return None\n",
    "\n",
    "    # Parse the HTML content using BeautifulSoup\n",
    "    soup = BeautifulSoup(response.content, 'html.parser')\n",
    "    \n",
    "    # Initialize lists to store data\n",
    "    celebrity_names = []\n",
    "    ranks = []\n",
    "    \n",
    "    # Find relevant data: each celebrity is within a td tag with class 'name'\n",
    "    for i, celeb in enumerate(soup.find_all('td', class_='name'), 1):\n",
    "        name = celeb.a.text.strip()  # Extract the celebrity name and clean up white spaces\n",
    "        celebrity_names.append(name)\n",
    "        ranks.append(i)  # The order in the list implies ranking\n",
    "    \n",
    "    # Return the lists of celebrity names and ranks\n",
    "    return celebrity_names, ranks\n",
    "\n",
    "# URL for IMDb Most Popular Celebrities\n",
    "url = 'https://www.imdb.com/chart/starmeter/?ref_=nv_cel_m'\n",
    "\n",
    "# Call the function and get the result\n",
    "result = scrape_imdb_starmeter(url)\n",
    "\n",
    "# Check if the result is not None before unpacking\n",
    "if result:\n",
    "    celebrity_names, ranks = result\n",
    "    # Print the scraped data\n",
    "    print(celebrity_names)\n",
    "    print(ranks)\n",
    "else:\n",
    "    print(\"No data was retrieved.\")\n"
   ]
  },
  {
   "cell_type": "markdown",
   "id": "8eb3e48a-3588-462a-a6bc-9333f05cdb57",
   "metadata": {},
   "source": [
    "Step 6: Successfully fetching data after request code error is solved."
   ]
  },
  {
   "cell_type": "code",
   "execution_count": 110,
   "id": "7ee98357-4b3d-4db7-94bf-667662fd90d5",
   "metadata": {},
   "outputs": [
    {
     "name": "stdout",
     "output_type": "stream",
     "text": [
      "Successfully fetched the page!\n"
     ]
    }
   ],
   "source": [
    "if response.status_code == 200:\n",
    "    print(\"Successfully fetched the page!\")\n",
    "else:\n",
    "    print(f\"Failed to retrieve the page. Status code: {response.status_code}\")\n"
   ]
  },
  {
   "cell_type": "markdown",
   "id": "030e3c38-c4b2-4bd0-8a92-8188648c2fa7",
   "metadata": {},
   "source": [
    "Step 7: Parse the HTML content with Beautiful Soup"
   ]
  },
  {
   "cell_type": "code",
   "execution_count": 121,
   "id": "11272a0d-8cd5-4c54-aa27-a20624cdba47",
   "metadata": {},
   "outputs": [],
   "source": [
    "\n",
    "soup = BeautifulSoup(response.content, 'html.parser')"
   ]
  },
  {
   "cell_type": "code",
   "execution_count": 122,
   "id": "08434a36-2052-4c76-8768-9d05993f8e87",
   "metadata": {},
   "outputs": [
    {
     "name": "stdout",
     "output_type": "stream",
     "text": [
      "<!DOCTYPE html>\n",
      "<html lang=\"en-US\" xmlns:fb=\"http://www.facebook.com/2008/fbml\" xmlns:og=\"http://opengraphprotocol.org/schema/\">\n",
      " <head>\n",
      "  <meta charset=\"utf-8\"/>\n",
      "  <meta content=\"width=device-width\" name=\"viewport\"/>\n",
      "  <script>\n",
      "   if(typeof uet === 'function'){ uet('bb', 'LoadTitle', {wb: 1}); }\n",
      "  </script>\n",
      "  <script>\n",
      "   window.addEventListener('load', (event) => {\n",
      "        if (typeof window.csa !== 'undefined' && typeof window.csa === 'function') {\n",
      "            var csaLatencyPlugin = window.csa('Content', {\n",
      "                element: {\n",
      "                    slotId: 'LoadTitle',\n",
      "                    type: 'service-call'\n",
      "                }\n",
      "            });\n",
      "            csaLatencyPlugin('mark', 'clickToBodyBegin', 1728859217490);\n",
      "        }\n",
      "    })\n",
      "  </script>\n",
      "  <title>\n",
      "   Most Popular Celebs\n",
      "  </title>\n",
      "  <meta content=\"As determined by IMDb users\" data-id=\"main\" name=\"description\"/>\n",
      "  <script type=\"application/ld+json\">\n",
      "   {\"@type\":\"ItemList\",\"itemListElement\":[{\"@type\":\"ListItem\",\"item\":{\"@type\":\"Person\",\"url\":\"https://www.imdb.com/name/nm0111013/\",\"name\":\"Adam Brody\"}},{\"@type\":\"ListItem\",\"item\":{\"@type\":\"Person\",\"url\":\"https://www.imdb.com/name/nm0001434/\",\"name\":\"Kris Kristofferson\"}},{\"@type\":\"ListItem\",\"item\":{\"@type\":\"Person\",\"url\":\"https://www.imdb.com/name/nm0001749/\",\"name\":\"Maggie Smith\"}},{\"@type\":\"ListItem\",\"item\":{\"@type\":\"Person\",\"url\":\"https://www.imdb.com/name/nm12560173/\",\"name\":\"Nicholas Alexander Chavez\"}},{\"@type\":\"ListItem\",\"item\":{\"@type\":\"Person\",\"url\":\"https://www.imdb.com/name/nm4419771/\",\"name\":\"Justine Lupe\"}},{\"@type\":\"ListItem\",\"item\":{\"@type\":\"Person\",\"url\":\"https://www.imdb.com/name/nm2599408/\",\"name\":\"Cooper Koch\"}},{\"@type\":\"ListItem\",\"item\":{\"@type\":\"Person\",\"url\":\"https://www.imdb.com/name/nm0310966/\",\"name\":\"Ari Graynor\"}},{\"@type\":\"ListItem\",\"item\":{\"@type\":\"Person\",\"url\":\"https://www.imdb.com/name/nm2129662/\",\"name\":\"Cristin Milioti\"}},{\"@type\":\"ListItem\",\"item\":{\"@type\":\"Person\",\"url\":\"https://www.imdb.com/name/nm0068338/\",\"name\":\"Kristen\n"
     ]
    }
   ],
   "source": [
    "#Print the parsed HTML to verify\n",
    "print(soup.prettify()[:2000])"
   ]
  },
  {
   "cell_type": "markdown",
   "id": "762de560-dc40-46ee-985b-30d46922b7ab",
   "metadata": {},
   "source": [
    "Step 8: Extract the JSON-LD data from the <script> tag"
   ]
  },
  {
   "cell_type": "code",
   "execution_count": 123,
   "id": "f1b1997c-210a-4e71-811a-a54f6752b083",
   "metadata": {},
   "outputs": [],
   "source": [
    "\n",
    "script_tag = soup.find('script', type='application/ld+json')\n"
   ]
  },
  {
   "cell_type": "code",
   "execution_count": 124,
   "id": "aba76b84-90cc-4993-bb06-23593c408f1b",
   "metadata": {},
   "outputs": [],
   "source": [
    "# Load the JSON data\n",
    "import json\n",
    "if script_tag:\n",
    "    data = json.loads(script_tag.string)\n",
    "    celebrities = data.get(\"itemListElement\", [])\n",
    "\n",
    "# Initialize lists to store names and URLs\n",
    "names = []  # Ensure this variable is defined\n",
    "urls = []   # Ensure this variable is defined\n",
    "    "
   ]
  },
  {
   "cell_type": "markdown",
   "id": "2e9e8d69-172b-41f3-9edf-72ab9ba3e1f9",
   "metadata": {},
   "source": [
    "Step 9: Extracing the top 100 celebrity names and URLs"
   ]
  },
  {
   "cell_type": "code",
   "execution_count": 125,
   "id": "2a31d1c1-6f11-45cb-903f-9092ab5ac4d9",
   "metadata": {},
   "outputs": [
    {
     "name": "stdout",
     "output_type": "stream",
     "text": [
      "Name: Adam Brody, URL: https://www.imdb.com/name/nm0111013/\n",
      "Name: Kris Kristofferson, URL: https://www.imdb.com/name/nm0001434/\n",
      "Name: Maggie Smith, URL: https://www.imdb.com/name/nm0001749/\n",
      "Name: Nicholas Alexander Chavez, URL: https://www.imdb.com/name/nm12560173/\n",
      "Name: Justine Lupe, URL: https://www.imdb.com/name/nm4419771/\n",
      "Name: Cooper Koch, URL: https://www.imdb.com/name/nm2599408/\n",
      "Name: Ari Graynor, URL: https://www.imdb.com/name/nm0310966/\n",
      "Name: Cristin Milioti, URL: https://www.imdb.com/name/nm2129662/\n",
      "Name: Kristen Bell, URL: https://www.imdb.com/name/nm0068338/\n",
      "Name: Margaret Qualley, URL: https://www.imdb.com/name/nm4960279/\n",
      "Name: John Amos, URL: https://www.imdb.com/name/nm0025309/\n",
      "Name: Eve Hewson, URL: https://www.imdb.com/name/nm2016723/\n",
      "Name: Jackie Tohn, URL: https://www.imdb.com/name/nm0865626/\n",
      "Name: Monica Bellucci, URL: https://www.imdb.com/name/nm0000899/\n",
      "Name: Colin Farrell, URL: https://www.imdb.com/name/nm0268199/\n",
      "Name: Emma Corrin, URL: https://www.imdb.com/name/nm10128408/\n",
      "Name: Sydney Sweeney, URL: https://www.imdb.com/name/nm2858875/\n",
      "Name: Jean Smart, URL: https://www.imdb.com/name/nm0005443/\n",
      "Name: Leslie Grossman, URL: https://www.imdb.com/name/nm0343678/\n",
      "Name: John Ashton, URL: https://www.imdb.com/name/nm0039226/\n",
      "Name: Alicia Vikander, URL: https://www.imdb.com/name/nm2539953/\n",
      "Name: Dallas Roberts, URL: https://www.imdb.com/name/nm1316767/\n",
      "Name: Joshua Jackson, URL: https://www.imdb.com/name/nm0005045/\n",
      "Name: Javier Bardem, URL: https://www.imdb.com/name/nm0000849/\n",
      "Name: Chloë Sevigny, URL: https://www.imdb.com/name/nm0001721/\n",
      "Name: Ana de Armas, URL: https://www.imdb.com/name/nm1869101/\n",
      "Name: Timothy Simons, URL: https://www.imdb.com/name/nm3985937/\n",
      "Name: Aubrey Plaza, URL: https://www.imdb.com/name/nm2201555/\n",
      "Name: Morfydd Clark, URL: https://www.imdb.com/name/nm6077056/\n",
      "Name: Brad Pitt, URL: https://www.imdb.com/name/nm0000093/\n",
      "Name: Francis Ford Coppola, URL: https://www.imdb.com/name/nm0000338/\n",
      "Name: Austin Abrams, URL: https://www.imdb.com/name/nm3641002/\n",
      "Name: Joaquin Phoenix, URL: https://www.imdb.com/name/nm0001618/\n",
      "Name: Kathryn Hahn, URL: https://www.imdb.com/name/nm1063517/\n",
      "Name: Brie Larson, URL: https://www.imdb.com/name/nm0488953/\n",
      "Name: Sophie Turner, URL: https://www.imdb.com/name/nm3849842/\n",
      "Name: Lewis Pullman, URL: https://www.imdb.com/name/nm5730649/\n",
      "Name: Nicole Kidman, URL: https://www.imdb.com/name/nm0000173/\n",
      "Name: Leighton Meester, URL: https://www.imdb.com/name/nm1015262/\n",
      "Name: Erika Eleniak, URL: https://www.imdb.com/name/nm0000143/\n",
      "Name: Arielle Kebbel, URL: https://www.imdb.com/name/nm0444223/\n",
      "Name: Kaitlin Olson, URL: https://www.imdb.com/name/nm0647698/\n",
      "Name: Zachary Levi, URL: https://www.imdb.com/name/nm1157048/\n",
      "Name: Demi Moore, URL: https://www.imdb.com/name/nm0000193/\n",
      "Name: Toby Stephens, URL: https://www.imdb.com/name/nm0827170/\n",
      "Name: Jenna Ortega, URL: https://www.imdb.com/name/nm4911194/\n",
      "Name: Emily Arlook, URL: https://www.imdb.com/name/nm1354288/\n",
      "Name: Dominique Dunne, URL: https://www.imdb.com/name/nm0001161/\n",
      "Name: Ella Purnell, URL: https://www.imdb.com/name/nm3480246/\n",
      "Name: Lady Gaga, URL: https://www.imdb.com/name/nm3078932/\n",
      "Name: Lacey Chabert, URL: https://www.imdb.com/name/nm0000327/\n",
      "Name: Dafne Keen, URL: https://www.imdb.com/name/nm6748436/\n",
      "Name: Shailene Woodley, URL: https://www.imdb.com/name/nm0940362/\n",
      "Name: Mckenna Grace, URL: https://www.imdb.com/name/nm5085683/\n",
      "Name: James McAvoy, URL: https://www.imdb.com/name/nm0564215/\n",
      "Name: Brianna Brown, URL: https://www.imdb.com/name/nm0113158/\n",
      "Name: Charlie Vickers, URL: https://www.imdb.com/name/nm8190914/\n",
      "Name: Nathalie Emmanuel, URL: https://www.imdb.com/name/nm2812026/\n",
      "Name: Harris Dickinson, URL: https://www.imdb.com/name/nm6170168/\n",
      "Name: Evan Peters, URL: https://www.imdb.com/name/nm1404239/\n",
      "Name: Bella Ramsey, URL: https://www.imdb.com/name/nm8165602/\n",
      "Name: Joey King, URL: https://www.imdb.com/name/nm1428821/\n",
      "Name: Meghann Fahy, URL: https://www.imdb.com/name/nm3627601/\n",
      "Name: Makenzie Leigh, URL: https://www.imdb.com/name/nm4689170/\n",
      "Name: Dakota Fanning, URL: https://www.imdb.com/name/nm0266824/\n",
      "Name: Camilla Belle, URL: https://www.imdb.com/name/nm0004741/\n",
      "Name: Daniel Day-Lewis, URL: https://www.imdb.com/name/nm0000358/\n",
      "Name: Zazie Beetz, URL: https://www.imdb.com/name/nm5939164/\n",
      "Name: Amy Ryan, URL: https://www.imdb.com/name/nm0752407/\n",
      "Name: Dakota Johnson, URL: https://www.imdb.com/name/nm0424848/\n",
      "Name: Isabelle Adjani, URL: https://www.imdb.com/name/nm0000254/\n",
      "Name: Brigitte Bardot, URL: https://www.imdb.com/name/nm0000003/\n",
      "Name: Markella Kavenagh, URL: https://www.imdb.com/name/nm9220161/\n",
      "Name: Alexandra Daddario, URL: https://www.imdb.com/name/nm1275259/\n",
      "Name: Patti LuPone, URL: https://www.imdb.com/name/nm0526985/\n",
      "Name: Carmen Ejogo, URL: https://www.imdb.com/name/nm0252238/\n",
      "Name: Lena Headey, URL: https://www.imdb.com/name/nm0372176/\n",
      "Name: Florence Pugh, URL: https://www.imdb.com/name/nm6073955/\n",
      "Name: Tatiana Zappardino, URL: https://www.imdb.com/name/nm7508235/\n",
      "Name: Tovah Feldshuh, URL: https://www.imdb.com/name/nm0271165/\n",
      "Name: Alicia Silverstone, URL: https://www.imdb.com/name/nm0000224/\n",
      "Name: Mackenzie Davis, URL: https://www.imdb.com/name/nm4496875/\n",
      "Name: Drake Hogestyn, URL: https://www.imdb.com/name/nm0389693/\n",
      "Name: Liev Schreiber, URL: https://www.imdb.com/name/nm0000630/\n",
      "Name: Rossif Sutherland, URL: https://www.imdb.com/name/nm1160472/\n",
      "Name: Morena Baccarin, URL: https://www.imdb.com/name/nm1072555/\n",
      "Name: Cailee Spaeny, URL: https://www.imdb.com/name/nm8314228/\n",
      "Name: Anna Sawai, URL: https://www.imdb.com/name/nm3660091/\n",
      "Name: Frank Dillane, URL: https://www.imdb.com/name/nm0226817/\n",
      "Name: Melissa Benoist, URL: https://www.imdb.com/name/nm2552034/\n",
      "Name: George Clooney, URL: https://www.imdb.com/name/nm0000123/\n",
      "Name: Robert De Niro, URL: https://www.imdb.com/name/nm0000134/\n",
      "Name: Richard Harris, URL: https://www.imdb.com/name/nm0001321/\n",
      "Name: AnnaSophia Robb, URL: https://www.imdb.com/name/nm1455681/\n",
      "Name: Julia Garner, URL: https://www.imdb.com/name/nm3400186/\n",
      "Name: Mira Sorvino, URL: https://www.imdb.com/name/nm0000227/\n",
      "Name: Natalie Martinez, URL: https://www.imdb.com/name/nm2358540/\n",
      "Name: Maya Hawke, URL: https://www.imdb.com/name/nm1638321/\n",
      "Name: Jessica Parker Kennedy, URL: https://www.imdb.com/name/nm2498781/\n",
      "Name: Gavin Creel, URL: https://www.imdb.com/name/nm1342128/\n",
      "No script tag found.\n"
     ]
    }
   ],
   "source": [
    "# Extract celebrity names and URLs\n",
    "for celeb in celebrities:\n",
    "        name = celeb['item']['name']\n",
    "        url = celeb['item']['url']\n",
    "        print(f'Name: {name}, URL: {url}')\n",
    "else:\n",
    "    print(\"No script tag found.\")"
   ]
  },
  {
   "cell_type": "code",
   "execution_count": 126,
   "id": "392fa969-f3f5-460b-bda1-6049d0f7f5c4",
   "metadata": {},
   "outputs": [],
   "source": [
    "for celeb in celebrities:\n",
    "    names.append(celeb['item']['name'])\n",
    "    urls.append(celeb['item']['url'])"
   ]
  },
  {
   "cell_type": "markdown",
   "id": "f5bb95bf-b3ae-4c5e-b298-b469755323d1",
   "metadata": {},
   "source": [
    "Step 10: Creating the dataframe using Name and urls"
   ]
  },
  {
   "cell_type": "code",
   "execution_count": 127,
   "id": "101bd791-f36a-4869-9171-864c217bbe93",
   "metadata": {},
   "outputs": [],
   "source": [
    "# Create a DataFrame using the extracted data\n",
    "import pandas as pd\n",
    "df = pd.DataFrame({\n",
    "    'Name': names,  \n",
    "    'URL': urls    \n",
    "})\n"
   ]
  },
  {
   "cell_type": "code",
   "execution_count": 128,
   "id": "572c866d-5633-433f-8058-1aabd77e8fec",
   "metadata": {},
   "outputs": [
    {
     "data": {
      "text/html": [
       "<div>\n",
       "<style scoped>\n",
       "    .dataframe tbody tr th:only-of-type {\n",
       "        vertical-align: middle;\n",
       "    }\n",
       "\n",
       "    .dataframe tbody tr th {\n",
       "        vertical-align: top;\n",
       "    }\n",
       "\n",
       "    .dataframe thead th {\n",
       "        text-align: right;\n",
       "    }\n",
       "</style>\n",
       "<table border=\"1\" class=\"dataframe\">\n",
       "  <thead>\n",
       "    <tr style=\"text-align: right;\">\n",
       "      <th></th>\n",
       "      <th>Name</th>\n",
       "      <th>URL</th>\n",
       "    </tr>\n",
       "  </thead>\n",
       "  <tbody>\n",
       "    <tr>\n",
       "      <th>0</th>\n",
       "      <td>Adam Brody</td>\n",
       "      <td>https://www.imdb.com/name/nm0111013/</td>\n",
       "    </tr>\n",
       "    <tr>\n",
       "      <th>1</th>\n",
       "      <td>Kris Kristofferson</td>\n",
       "      <td>https://www.imdb.com/name/nm0001434/</td>\n",
       "    </tr>\n",
       "    <tr>\n",
       "      <th>2</th>\n",
       "      <td>Maggie Smith</td>\n",
       "      <td>https://www.imdb.com/name/nm0001749/</td>\n",
       "    </tr>\n",
       "    <tr>\n",
       "      <th>3</th>\n",
       "      <td>Nicholas Alexander Chavez</td>\n",
       "      <td>https://www.imdb.com/name/nm12560173/</td>\n",
       "    </tr>\n",
       "    <tr>\n",
       "      <th>4</th>\n",
       "      <td>Justine Lupe</td>\n",
       "      <td>https://www.imdb.com/name/nm4419771/</td>\n",
       "    </tr>\n",
       "  </tbody>\n",
       "</table>\n",
       "</div>"
      ],
      "text/plain": [
       "                        Name                                    URL\n",
       "0                 Adam Brody   https://www.imdb.com/name/nm0111013/\n",
       "1         Kris Kristofferson   https://www.imdb.com/name/nm0001434/\n",
       "2               Maggie Smith   https://www.imdb.com/name/nm0001749/\n",
       "3  Nicholas Alexander Chavez  https://www.imdb.com/name/nm12560173/\n",
       "4               Justine Lupe   https://www.imdb.com/name/nm4419771/"
      ]
     },
     "execution_count": 128,
     "metadata": {},
     "output_type": "execute_result"
    }
   ],
   "source": [
    "df.head()"
   ]
  },
  {
   "cell_type": "markdown",
   "id": "be365308-43cb-4e3c-9a43-0215fbc73c5c",
   "metadata": {},
   "source": [
    "Step 11: Data transformation\n",
    "converting all text to lowercase"
   ]
  },
  {
   "cell_type": "code",
   "execution_count": 113,
   "id": "a00bd384-427f-4f45-b434-5ec86f939d52",
   "metadata": {},
   "outputs": [
    {
     "name": "stdout",
     "output_type": "stream",
     "text": [
      "                         Name                                    URL\n",
      "0                  adam brody   https://www.imdb.com/name/nm0111013/\n",
      "1          kris kristofferson   https://www.imdb.com/name/nm0001434/\n",
      "2                maggie smith   https://www.imdb.com/name/nm0001749/\n",
      "3   nicholas alexander chavez  https://www.imdb.com/name/nm12560173/\n",
      "4                justine lupe   https://www.imdb.com/name/nm4419771/\n",
      "..                        ...                                    ...\n",
      "95               mira sorvino   https://www.imdb.com/name/nm0000227/\n",
      "96           natalie martinez   https://www.imdb.com/name/nm2358540/\n",
      "97                 maya hawke   https://www.imdb.com/name/nm1638321/\n",
      "98     jessica parker kennedy   https://www.imdb.com/name/nm2498781/\n",
      "99                gavin creel   https://www.imdb.com/name/nm1342128/\n",
      "\n",
      "[100 rows x 2 columns]\n"
     ]
    }
   ],
   "source": [
    "df['Name'] = df['Name'].str.lower()\n",
    "print(df)"
   ]
  },
  {
   "cell_type": "markdown",
   "id": "e7569260-1289-48e6-bd7c-9394e7fda086",
   "metadata": {},
   "source": [
    "Step 12: Performing  text tokenization or stemming for future analysis."
   ]
  },
  {
   "cell_type": "code",
   "execution_count": 129,
   "id": "ed818907-eeec-413a-b6ca-4999ceb9f34f",
   "metadata": {},
   "outputs": [
    {
     "name": "stdout",
     "output_type": "stream",
     "text": [
      "                         Name                                    URL  \\\n",
      "0                  Adam Brody   https://www.imdb.com/name/nm0111013/   \n",
      "1          Kris Kristofferson   https://www.imdb.com/name/nm0001434/   \n",
      "2                Maggie Smith   https://www.imdb.com/name/nm0001749/   \n",
      "3   Nicholas Alexander Chavez  https://www.imdb.com/name/nm12560173/   \n",
      "4                Justine Lupe   https://www.imdb.com/name/nm4419771/   \n",
      "..                        ...                                    ...   \n",
      "95               Mira Sorvino   https://www.imdb.com/name/nm0000227/   \n",
      "96           Natalie Martinez   https://www.imdb.com/name/nm2358540/   \n",
      "97                 Maya Hawke   https://www.imdb.com/name/nm1638321/   \n",
      "98     Jessica Parker Kennedy   https://www.imdb.com/name/nm2498781/   \n",
      "99                Gavin Creel   https://www.imdb.com/name/nm1342128/   \n",
      "\n",
      "                        Tokenized  \n",
      "0                   [Adam, Brody]  \n",
      "1           [Kris, Kristofferson]  \n",
      "2                 [Maggie, Smith]  \n",
      "3   [Nicholas, Alexander, Chavez]  \n",
      "4                 [Justine, Lupe]  \n",
      "..                            ...  \n",
      "95                [Mira, Sorvino]  \n",
      "96            [Natalie, Martinez]  \n",
      "97                  [Maya, Hawke]  \n",
      "98     [Jessica, Parker, Kennedy]  \n",
      "99                 [Gavin, Creel]  \n",
      "\n",
      "[100 rows x 3 columns]\n"
     ]
    },
    {
     "name": "stderr",
     "output_type": "stream",
     "text": [
      "[nltk_data] Downloading package punkt to /Users/iambimalk/nltk_data...\n",
      "[nltk_data]   Package punkt is already up-to-date!\n"
     ]
    }
   ],
   "source": [
    "# Optional - Tokenization\n",
    "import nltk\n",
    "nltk.download('punkt')\n",
    "df['Tokenized'] = df['Name'].apply(word_tokenize)\n",
    "print(df)"
   ]
  },
  {
   "cell_type": "code",
   "execution_count": 130,
   "id": "d2da5f13-6e26-4765-83ac-56cd3b80c968",
   "metadata": {},
   "outputs": [
    {
     "name": "stdout",
     "output_type": "stream",
     "text": [
      "                         Name                                    URL  \\\n",
      "0                  Adam Brody   https://www.imdb.com/name/nm0111013/   \n",
      "1          Kris Kristofferson   https://www.imdb.com/name/nm0001434/   \n",
      "2                Maggie Smith   https://www.imdb.com/name/nm0001749/   \n",
      "3   Nicholas Alexander Chavez  https://www.imdb.com/name/nm12560173/   \n",
      "4                Justine Lupe   https://www.imdb.com/name/nm4419771/   \n",
      "..                        ...                                    ...   \n",
      "95               Mira Sorvino   https://www.imdb.com/name/nm0000227/   \n",
      "96           Natalie Martinez   https://www.imdb.com/name/nm2358540/   \n",
      "97                 Maya Hawke   https://www.imdb.com/name/nm1638321/   \n",
      "98     Jessica Parker Kennedy   https://www.imdb.com/name/nm2498781/   \n",
      "99                Gavin Creel   https://www.imdb.com/name/nm1342128/   \n",
      "\n",
      "                        Tokenized                     Stemmed  \n",
      "0                   [Adam, Brody]               [adam, brodi]  \n",
      "1           [Kris, Kristofferson]        [kri, kristofferson]  \n",
      "2                 [Maggie, Smith]              [maggi, smith]  \n",
      "3   [Nicholas, Alexander, Chavez]  [nichola, alexand, chavez]  \n",
      "4                 [Justine, Lupe]              [justin, lupe]  \n",
      "..                            ...                         ...  \n",
      "95                [Mira, Sorvino]             [mira, sorvino]  \n",
      "96            [Natalie, Martinez]          [natali, martinez]  \n",
      "97                  [Maya, Hawke]                [maya, hawk]  \n",
      "98     [Jessica, Parker, Kennedy]  [jessica, parker, kennedi]  \n",
      "99                 [Gavin, Creel]              [gavin, creel]  \n",
      "\n",
      "[100 rows x 4 columns]\n"
     ]
    }
   ],
   "source": [
    "# Optional - Stemming\n",
    "ps = PorterStemmer()\n",
    "df['Stemmed'] = df['Tokenized'].apply(lambda x: [ps.stem(word) for word in x])\n",
    "print(df)"
   ]
  },
  {
   "cell_type": "markdown",
   "id": "21f5b09e-e604-49f8-a651-45da1bb21e41",
   "metadata": {},
   "source": [
    "Step 13: Saving the DataFrame to a CSV file"
   ]
  },
  {
   "cell_type": "code",
   "execution_count": 131,
   "id": "c7e7dd9a-727e-44e9-9a89-a993f0546bf5",
   "metadata": {},
   "outputs": [
    {
     "name": "stdout",
     "output_type": "stream",
     "text": [
      "Data saved in CSV format\n"
     ]
    }
   ],
   "source": [
    "\n",
    "df.to_csv('popular_celebrities.csv', index=False)\n",
    "print(\"Data saved in CSV format\")"
   ]
  },
  {
   "cell_type": "code",
   "execution_count": null,
   "id": "70af2403-4e0b-4ecb-b1c3-484d280f030b",
   "metadata": {},
   "outputs": [],
   "source": []
  }
 ],
 "metadata": {
  "kernelspec": {
   "display_name": "myenv",
   "language": "python",
   "name": "myenv"
  },
  "language_info": {
   "codemirror_mode": {
    "name": "ipython",
    "version": 3
   },
   "file_extension": ".py",
   "mimetype": "text/x-python",
   "name": "python",
   "nbconvert_exporter": "python",
   "pygments_lexer": "ipython3",
   "version": "3.11.7"
  }
 },
 "nbformat": 4,
 "nbformat_minor": 5
}
