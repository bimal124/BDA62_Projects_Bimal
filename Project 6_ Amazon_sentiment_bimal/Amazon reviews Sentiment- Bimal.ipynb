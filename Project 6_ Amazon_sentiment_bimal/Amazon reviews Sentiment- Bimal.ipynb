{
 "cells": [
  {
   "cell_type": "markdown",
   "id": "cc5bb5cb-894d-4102-ae89-923040488d73",
   "metadata": {},
   "source": [
    "Student Name : Bimal Kandel"
   ]
  },
  {
   "cell_type": "markdown",
   "id": "672a6feb-bcb9-4b54-a140-d248437eecd8",
   "metadata": {},
   "source": [
    "install or Impoprting the necessary libraries"
   ]
  },
  {
   "cell_type": "code",
   "execution_count": 97,
   "id": "9f77e0f8-18a6-4c39-92ee-10f572489097",
   "metadata": {},
   "outputs": [],
   "source": [
    " 1. # Impoprting the necessary libraries\n",
    "\n",
    "# Import Required Libraries\n",
    "import pandas as pd\n",
    "import numpy as np\n",
    "import nltk\n",
    "from sklearn.model_selection import train_test_split\n",
    "from sklearn.feature_extraction.text import TfidfVectorizer\n",
    "from sklearn.linear_model import LogisticRegression\n",
    "from sklearn.metrics import accuracy_score, precision_score, recall_score, f1_score, confusion_matrix\n",
    "import matplotlib.pyplot as plt\n",
    "import seaborn as sns\n",
    "from nltk.corpus import stopwords\n",
    "from nltk.tokenize import word_tokenize\n"
   ]
  },
  {
   "cell_type": "code",
   "execution_count": 98,
   "id": "712c13b5-942e-4804-b3dc-1f41c7634a5c",
   "metadata": {},
   "outputs": [
    {
     "name": "stderr",
     "output_type": "stream",
     "text": [
      "[nltk_data] Downloading package stopwords to\n",
      "[nltk_data]     /Users/iambimalk/nltk_data...\n",
      "[nltk_data]   Package stopwords is already up-to-date!\n",
      "[nltk_data] Downloading package punkt to /Users/iambimalk/nltk_data...\n",
      "[nltk_data]   Package punkt is already up-to-date!\n"
     ]
    },
    {
     "data": {
      "text/plain": [
       "True"
      ]
     },
     "execution_count": 98,
     "metadata": {},
     "output_type": "execute_result"
    }
   ],
   "source": [
    "import nltk\n",
    "nltk.download('stopwords')      # Stopwords for preprocessing\n",
    "nltk.download('punkt')          # Tokenizer for text processing"
   ]
  },
  {
   "cell_type": "markdown",
   "id": "1cb5352f-7c12-4f2d-99ba-7d15a5b88c01",
   "metadata": {},
   "source": [
    "Downloaded  the Amazon Customer Reviews dataset from Kaggle and importing them"
   ]
  },
  {
   "cell_type": "code",
   "execution_count": 99,
   "id": "14ab7fc5-60f8-4350-b153-8baad7d10709",
   "metadata": {},
   "outputs": [],
   "source": [
    " 3.#loading the csv file dataset\n",
    "data = pd.read_csv(\"//Users/iambimalk/Downloads/7817_1.csv\")    "
   ]
  },
  {
   "cell_type": "code",
   "execution_count": 100,
   "id": "886efa93-9c81-4392-910b-d23f5c75aa65",
   "metadata": {},
   "outputs": [
    {
     "data": {
      "text/html": [
       "<div>\n",
       "<style scoped>\n",
       "    .dataframe tbody tr th:only-of-type {\n",
       "        vertical-align: middle;\n",
       "    }\n",
       "\n",
       "    .dataframe tbody tr th {\n",
       "        vertical-align: top;\n",
       "    }\n",
       "\n",
       "    .dataframe thead th {\n",
       "        text-align: right;\n",
       "    }\n",
       "</style>\n",
       "<table border=\"1\" class=\"dataframe\">\n",
       "  <thead>\n",
       "    <tr style=\"text-align: right;\">\n",
       "      <th></th>\n",
       "      <th>id</th>\n",
       "      <th>asins</th>\n",
       "      <th>brand</th>\n",
       "      <th>categories</th>\n",
       "      <th>colors</th>\n",
       "      <th>dateAdded</th>\n",
       "      <th>dateUpdated</th>\n",
       "      <th>dimension</th>\n",
       "      <th>ean</th>\n",
       "      <th>keys</th>\n",
       "      <th>...</th>\n",
       "      <th>reviews.rating</th>\n",
       "      <th>reviews.sourceURLs</th>\n",
       "      <th>reviews.text</th>\n",
       "      <th>reviews.title</th>\n",
       "      <th>reviews.userCity</th>\n",
       "      <th>reviews.userProvince</th>\n",
       "      <th>reviews.username</th>\n",
       "      <th>sizes</th>\n",
       "      <th>upc</th>\n",
       "      <th>weight</th>\n",
       "    </tr>\n",
       "  </thead>\n",
       "  <tbody>\n",
       "    <tr>\n",
       "      <th>0</th>\n",
       "      <td>AVpe7AsMilAPnD_xQ78G</td>\n",
       "      <td>B00QJDU3KY</td>\n",
       "      <td>Amazon</td>\n",
       "      <td>Amazon Devices,mazon.co.uk</td>\n",
       "      <td>NaN</td>\n",
       "      <td>2016-03-08T20:21:53Z</td>\n",
       "      <td>2017-07-18T23:52:58Z</td>\n",
       "      <td>169 mm x 117 mm x 9.1 mm</td>\n",
       "      <td>NaN</td>\n",
       "      <td>kindlepaperwhite/b00qjdu3ky</td>\n",
       "      <td>...</td>\n",
       "      <td>5.0</td>\n",
       "      <td>https://www.amazon.com/Kindle-Paperwhite-High-...</td>\n",
       "      <td>I initially had trouble deciding between the p...</td>\n",
       "      <td>Paperwhite voyage, no regrets!</td>\n",
       "      <td>NaN</td>\n",
       "      <td>NaN</td>\n",
       "      <td>Cristina M</td>\n",
       "      <td>NaN</td>\n",
       "      <td>NaN</td>\n",
       "      <td>205 grams</td>\n",
       "    </tr>\n",
       "    <tr>\n",
       "      <th>1</th>\n",
       "      <td>AVpe7AsMilAPnD_xQ78G</td>\n",
       "      <td>B00QJDU3KY</td>\n",
       "      <td>Amazon</td>\n",
       "      <td>Amazon Devices,mazon.co.uk</td>\n",
       "      <td>NaN</td>\n",
       "      <td>2016-03-08T20:21:53Z</td>\n",
       "      <td>2017-07-18T23:52:58Z</td>\n",
       "      <td>169 mm x 117 mm x 9.1 mm</td>\n",
       "      <td>NaN</td>\n",
       "      <td>kindlepaperwhite/b00qjdu3ky</td>\n",
       "      <td>...</td>\n",
       "      <td>5.0</td>\n",
       "      <td>https://www.amazon.com/Kindle-Paperwhite-High-...</td>\n",
       "      <td>Allow me to preface this with a little history...</td>\n",
       "      <td>One Simply Could Not Ask For More</td>\n",
       "      <td>NaN</td>\n",
       "      <td>NaN</td>\n",
       "      <td>Ricky</td>\n",
       "      <td>NaN</td>\n",
       "      <td>NaN</td>\n",
       "      <td>205 grams</td>\n",
       "    </tr>\n",
       "    <tr>\n",
       "      <th>2</th>\n",
       "      <td>AVpe7AsMilAPnD_xQ78G</td>\n",
       "      <td>B00QJDU3KY</td>\n",
       "      <td>Amazon</td>\n",
       "      <td>Amazon Devices,mazon.co.uk</td>\n",
       "      <td>NaN</td>\n",
       "      <td>2016-03-08T20:21:53Z</td>\n",
       "      <td>2017-07-18T23:52:58Z</td>\n",
       "      <td>169 mm x 117 mm x 9.1 mm</td>\n",
       "      <td>NaN</td>\n",
       "      <td>kindlepaperwhite/b00qjdu3ky</td>\n",
       "      <td>...</td>\n",
       "      <td>4.0</td>\n",
       "      <td>https://www.amazon.com/Kindle-Paperwhite-High-...</td>\n",
       "      <td>I am enjoying it so far. Great for reading. Ha...</td>\n",
       "      <td>Great for those that just want an e-reader</td>\n",
       "      <td>NaN</td>\n",
       "      <td>NaN</td>\n",
       "      <td>Tedd Gardiner</td>\n",
       "      <td>NaN</td>\n",
       "      <td>NaN</td>\n",
       "      <td>205 grams</td>\n",
       "    </tr>\n",
       "    <tr>\n",
       "      <th>3</th>\n",
       "      <td>AVpe7AsMilAPnD_xQ78G</td>\n",
       "      <td>B00QJDU3KY</td>\n",
       "      <td>Amazon</td>\n",
       "      <td>Amazon Devices,mazon.co.uk</td>\n",
       "      <td>NaN</td>\n",
       "      <td>2016-03-08T20:21:53Z</td>\n",
       "      <td>2017-07-18T23:52:58Z</td>\n",
       "      <td>169 mm x 117 mm x 9.1 mm</td>\n",
       "      <td>NaN</td>\n",
       "      <td>kindlepaperwhite/b00qjdu3ky</td>\n",
       "      <td>...</td>\n",
       "      <td>5.0</td>\n",
       "      <td>https://www.amazon.com/Kindle-Paperwhite-High-...</td>\n",
       "      <td>I bought one of the first Paperwhites and have...</td>\n",
       "      <td>Love / Hate relationship</td>\n",
       "      <td>NaN</td>\n",
       "      <td>NaN</td>\n",
       "      <td>Dougal</td>\n",
       "      <td>NaN</td>\n",
       "      <td>NaN</td>\n",
       "      <td>205 grams</td>\n",
       "    </tr>\n",
       "    <tr>\n",
       "      <th>4</th>\n",
       "      <td>AVpe7AsMilAPnD_xQ78G</td>\n",
       "      <td>B00QJDU3KY</td>\n",
       "      <td>Amazon</td>\n",
       "      <td>Amazon Devices,mazon.co.uk</td>\n",
       "      <td>NaN</td>\n",
       "      <td>2016-03-08T20:21:53Z</td>\n",
       "      <td>2017-07-18T23:52:58Z</td>\n",
       "      <td>169 mm x 117 mm x 9.1 mm</td>\n",
       "      <td>NaN</td>\n",
       "      <td>kindlepaperwhite/b00qjdu3ky</td>\n",
       "      <td>...</td>\n",
       "      <td>5.0</td>\n",
       "      <td>https://www.amazon.com/Kindle-Paperwhite-High-...</td>\n",
       "      <td>I have to say upfront - I don't like coroporat...</td>\n",
       "      <td>I LOVE IT</td>\n",
       "      <td>NaN</td>\n",
       "      <td>NaN</td>\n",
       "      <td>Miljan David Tanic</td>\n",
       "      <td>NaN</td>\n",
       "      <td>NaN</td>\n",
       "      <td>205 grams</td>\n",
       "    </tr>\n",
       "    <tr>\n",
       "      <th>...</th>\n",
       "      <td>...</td>\n",
       "      <td>...</td>\n",
       "      <td>...</td>\n",
       "      <td>...</td>\n",
       "      <td>...</td>\n",
       "      <td>...</td>\n",
       "      <td>...</td>\n",
       "      <td>...</td>\n",
       "      <td>...</td>\n",
       "      <td>...</td>\n",
       "      <td>...</td>\n",
       "      <td>...</td>\n",
       "      <td>...</td>\n",
       "      <td>...</td>\n",
       "      <td>...</td>\n",
       "      <td>...</td>\n",
       "      <td>...</td>\n",
       "      <td>...</td>\n",
       "      <td>...</td>\n",
       "      <td>...</td>\n",
       "      <td>...</td>\n",
       "    </tr>\n",
       "    <tr>\n",
       "      <th>1592</th>\n",
       "      <td>AVpfo9ukilAPnD_xfhuj</td>\n",
       "      <td>B00NO8JJZW</td>\n",
       "      <td>Amazon</td>\n",
       "      <td>Amazon Devices &amp; Accessories,Amazon Device Acc...</td>\n",
       "      <td>NaN</td>\n",
       "      <td>2016-04-02T14:40:43Z</td>\n",
       "      <td>2017-08-13T08:28:46Z</td>\n",
       "      <td>NaN</td>\n",
       "      <td>NaN</td>\n",
       "      <td>alexavoiceremoteforamazonfiretvfiretvstick/b00...</td>\n",
       "      <td>...</td>\n",
       "      <td>3.0</td>\n",
       "      <td>https://www.amazon.com/Alexa-Voice-Remote-Amaz...</td>\n",
       "      <td>This is not the same remote that I got for my ...</td>\n",
       "      <td>I would be disappointed with myself if i produ...</td>\n",
       "      <td>NaN</td>\n",
       "      <td>NaN</td>\n",
       "      <td>GregAmandawith4</td>\n",
       "      <td>NaN</td>\n",
       "      <td>NaN</td>\n",
       "      <td>4 ounces</td>\n",
       "    </tr>\n",
       "    <tr>\n",
       "      <th>1593</th>\n",
       "      <td>AVpfo9ukilAPnD_xfhuj</td>\n",
       "      <td>B00NO8JJZW</td>\n",
       "      <td>Amazon</td>\n",
       "      <td>Amazon Devices &amp; Accessories,Amazon Device Acc...</td>\n",
       "      <td>NaN</td>\n",
       "      <td>2016-04-02T14:40:43Z</td>\n",
       "      <td>2017-08-13T08:28:46Z</td>\n",
       "      <td>NaN</td>\n",
       "      <td>NaN</td>\n",
       "      <td>alexavoiceremoteforamazonfiretvfiretvstick/b00...</td>\n",
       "      <td>...</td>\n",
       "      <td>1.0</td>\n",
       "      <td>https://www.amazon.com/Alexa-Voice-Remote-Amaz...</td>\n",
       "      <td>I have had to change the batteries in this rem...</td>\n",
       "      <td>Battery draining remote!!!!</td>\n",
       "      <td>NaN</td>\n",
       "      <td>NaN</td>\n",
       "      <td>Amazon Customer</td>\n",
       "      <td>NaN</td>\n",
       "      <td>NaN</td>\n",
       "      <td>4 ounces</td>\n",
       "    </tr>\n",
       "    <tr>\n",
       "      <th>1594</th>\n",
       "      <td>AVpfo9ukilAPnD_xfhuj</td>\n",
       "      <td>B00NO8JJZW</td>\n",
       "      <td>Amazon</td>\n",
       "      <td>Amazon Devices &amp; Accessories,Amazon Device Acc...</td>\n",
       "      <td>NaN</td>\n",
       "      <td>2016-04-02T14:40:43Z</td>\n",
       "      <td>2017-08-13T08:28:46Z</td>\n",
       "      <td>NaN</td>\n",
       "      <td>NaN</td>\n",
       "      <td>alexavoiceremoteforamazonfiretvfiretvstick/b00...</td>\n",
       "      <td>...</td>\n",
       "      <td>1.0</td>\n",
       "      <td>https://www.amazon.com/Alexa-Voice-Remote-Amaz...</td>\n",
       "      <td>Remote did not activate, nor did it connect to...</td>\n",
       "      <td>replacing an even worse remote. Waste of time</td>\n",
       "      <td>NaN</td>\n",
       "      <td>NaN</td>\n",
       "      <td>Amazon Customer</td>\n",
       "      <td>NaN</td>\n",
       "      <td>NaN</td>\n",
       "      <td>4 ounces</td>\n",
       "    </tr>\n",
       "    <tr>\n",
       "      <th>1595</th>\n",
       "      <td>AVpfo9ukilAPnD_xfhuj</td>\n",
       "      <td>B00NO8JJZW</td>\n",
       "      <td>Amazon</td>\n",
       "      <td>Amazon Devices &amp; Accessories,Amazon Device Acc...</td>\n",
       "      <td>NaN</td>\n",
       "      <td>2016-04-02T14:40:43Z</td>\n",
       "      <td>2017-08-13T08:28:46Z</td>\n",
       "      <td>NaN</td>\n",
       "      <td>NaN</td>\n",
       "      <td>alexavoiceremoteforamazonfiretvfiretvstick/b00...</td>\n",
       "      <td>...</td>\n",
       "      <td>3.0</td>\n",
       "      <td>https://www.amazon.com/Alexa-Voice-Remote-Amaz...</td>\n",
       "      <td>It does the job but is super over priced. I fe...</td>\n",
       "      <td>Overpriced</td>\n",
       "      <td>NaN</td>\n",
       "      <td>NaN</td>\n",
       "      <td>Meg Ashley</td>\n",
       "      <td>NaN</td>\n",
       "      <td>NaN</td>\n",
       "      <td>4 ounces</td>\n",
       "    </tr>\n",
       "    <tr>\n",
       "      <th>1596</th>\n",
       "      <td>AVpfo9ukilAPnD_xfhuj</td>\n",
       "      <td>B00NO8JJZW</td>\n",
       "      <td>Amazon</td>\n",
       "      <td>Amazon Devices &amp; Accessories,Amazon Device Acc...</td>\n",
       "      <td>NaN</td>\n",
       "      <td>2016-04-02T14:40:43Z</td>\n",
       "      <td>2017-08-13T08:28:46Z</td>\n",
       "      <td>NaN</td>\n",
       "      <td>NaN</td>\n",
       "      <td>alexavoiceremoteforamazonfiretvfiretvstick/b00...</td>\n",
       "      <td>...</td>\n",
       "      <td>1.0</td>\n",
       "      <td>https://www.amazon.com/Alexa-Voice-Remote-Amaz...</td>\n",
       "      <td>I ordered this item to replace the one that no...</td>\n",
       "      <td>I am sending all of this crap back to amazon a...</td>\n",
       "      <td>NaN</td>\n",
       "      <td>NaN</td>\n",
       "      <td>DIANE K</td>\n",
       "      <td>NaN</td>\n",
       "      <td>NaN</td>\n",
       "      <td>4 ounces</td>\n",
       "    </tr>\n",
       "  </tbody>\n",
       "</table>\n",
       "<p>1597 rows × 27 columns</p>\n",
       "</div>"
      ],
      "text/plain": [
       "                        id       asins   brand  \\\n",
       "0     AVpe7AsMilAPnD_xQ78G  B00QJDU3KY  Amazon   \n",
       "1     AVpe7AsMilAPnD_xQ78G  B00QJDU3KY  Amazon   \n",
       "2     AVpe7AsMilAPnD_xQ78G  B00QJDU3KY  Amazon   \n",
       "3     AVpe7AsMilAPnD_xQ78G  B00QJDU3KY  Amazon   \n",
       "4     AVpe7AsMilAPnD_xQ78G  B00QJDU3KY  Amazon   \n",
       "...                    ...         ...     ...   \n",
       "1592  AVpfo9ukilAPnD_xfhuj  B00NO8JJZW  Amazon   \n",
       "1593  AVpfo9ukilAPnD_xfhuj  B00NO8JJZW  Amazon   \n",
       "1594  AVpfo9ukilAPnD_xfhuj  B00NO8JJZW  Amazon   \n",
       "1595  AVpfo9ukilAPnD_xfhuj  B00NO8JJZW  Amazon   \n",
       "1596  AVpfo9ukilAPnD_xfhuj  B00NO8JJZW  Amazon   \n",
       "\n",
       "                                             categories colors  \\\n",
       "0                            Amazon Devices,mazon.co.uk    NaN   \n",
       "1                            Amazon Devices,mazon.co.uk    NaN   \n",
       "2                            Amazon Devices,mazon.co.uk    NaN   \n",
       "3                            Amazon Devices,mazon.co.uk    NaN   \n",
       "4                            Amazon Devices,mazon.co.uk    NaN   \n",
       "...                                                 ...    ...   \n",
       "1592  Amazon Devices & Accessories,Amazon Device Acc...    NaN   \n",
       "1593  Amazon Devices & Accessories,Amazon Device Acc...    NaN   \n",
       "1594  Amazon Devices & Accessories,Amazon Device Acc...    NaN   \n",
       "1595  Amazon Devices & Accessories,Amazon Device Acc...    NaN   \n",
       "1596  Amazon Devices & Accessories,Amazon Device Acc...    NaN   \n",
       "\n",
       "                 dateAdded           dateUpdated                 dimension  \\\n",
       "0     2016-03-08T20:21:53Z  2017-07-18T23:52:58Z  169 mm x 117 mm x 9.1 mm   \n",
       "1     2016-03-08T20:21:53Z  2017-07-18T23:52:58Z  169 mm x 117 mm x 9.1 mm   \n",
       "2     2016-03-08T20:21:53Z  2017-07-18T23:52:58Z  169 mm x 117 mm x 9.1 mm   \n",
       "3     2016-03-08T20:21:53Z  2017-07-18T23:52:58Z  169 mm x 117 mm x 9.1 mm   \n",
       "4     2016-03-08T20:21:53Z  2017-07-18T23:52:58Z  169 mm x 117 mm x 9.1 mm   \n",
       "...                    ...                   ...                       ...   \n",
       "1592  2016-04-02T14:40:43Z  2017-08-13T08:28:46Z                       NaN   \n",
       "1593  2016-04-02T14:40:43Z  2017-08-13T08:28:46Z                       NaN   \n",
       "1594  2016-04-02T14:40:43Z  2017-08-13T08:28:46Z                       NaN   \n",
       "1595  2016-04-02T14:40:43Z  2017-08-13T08:28:46Z                       NaN   \n",
       "1596  2016-04-02T14:40:43Z  2017-08-13T08:28:46Z                       NaN   \n",
       "\n",
       "      ean                                               keys  ...  \\\n",
       "0     NaN                        kindlepaperwhite/b00qjdu3ky  ...   \n",
       "1     NaN                        kindlepaperwhite/b00qjdu3ky  ...   \n",
       "2     NaN                        kindlepaperwhite/b00qjdu3ky  ...   \n",
       "3     NaN                        kindlepaperwhite/b00qjdu3ky  ...   \n",
       "4     NaN                        kindlepaperwhite/b00qjdu3ky  ...   \n",
       "...   ...                                                ...  ...   \n",
       "1592  NaN  alexavoiceremoteforamazonfiretvfiretvstick/b00...  ...   \n",
       "1593  NaN  alexavoiceremoteforamazonfiretvfiretvstick/b00...  ...   \n",
       "1594  NaN  alexavoiceremoteforamazonfiretvfiretvstick/b00...  ...   \n",
       "1595  NaN  alexavoiceremoteforamazonfiretvfiretvstick/b00...  ...   \n",
       "1596  NaN  alexavoiceremoteforamazonfiretvfiretvstick/b00...  ...   \n",
       "\n",
       "     reviews.rating                                 reviews.sourceURLs  \\\n",
       "0               5.0  https://www.amazon.com/Kindle-Paperwhite-High-...   \n",
       "1               5.0  https://www.amazon.com/Kindle-Paperwhite-High-...   \n",
       "2               4.0  https://www.amazon.com/Kindle-Paperwhite-High-...   \n",
       "3               5.0  https://www.amazon.com/Kindle-Paperwhite-High-...   \n",
       "4               5.0  https://www.amazon.com/Kindle-Paperwhite-High-...   \n",
       "...             ...                                                ...   \n",
       "1592            3.0  https://www.amazon.com/Alexa-Voice-Remote-Amaz...   \n",
       "1593            1.0  https://www.amazon.com/Alexa-Voice-Remote-Amaz...   \n",
       "1594            1.0  https://www.amazon.com/Alexa-Voice-Remote-Amaz...   \n",
       "1595            3.0  https://www.amazon.com/Alexa-Voice-Remote-Amaz...   \n",
       "1596            1.0  https://www.amazon.com/Alexa-Voice-Remote-Amaz...   \n",
       "\n",
       "                                           reviews.text  \\\n",
       "0     I initially had trouble deciding between the p...   \n",
       "1     Allow me to preface this with a little history...   \n",
       "2     I am enjoying it so far. Great for reading. Ha...   \n",
       "3     I bought one of the first Paperwhites and have...   \n",
       "4     I have to say upfront - I don't like coroporat...   \n",
       "...                                                 ...   \n",
       "1592  This is not the same remote that I got for my ...   \n",
       "1593  I have had to change the batteries in this rem...   \n",
       "1594  Remote did not activate, nor did it connect to...   \n",
       "1595  It does the job but is super over priced. I fe...   \n",
       "1596  I ordered this item to replace the one that no...   \n",
       "\n",
       "                                          reviews.title reviews.userCity  \\\n",
       "0                        Paperwhite voyage, no regrets!              NaN   \n",
       "1                     One Simply Could Not Ask For More              NaN   \n",
       "2            Great for those that just want an e-reader              NaN   \n",
       "3                              Love / Hate relationship              NaN   \n",
       "4                                             I LOVE IT              NaN   \n",
       "...                                                 ...              ...   \n",
       "1592  I would be disappointed with myself if i produ...              NaN   \n",
       "1593                        Battery draining remote!!!!              NaN   \n",
       "1594      replacing an even worse remote. Waste of time              NaN   \n",
       "1595                                         Overpriced              NaN   \n",
       "1596  I am sending all of this crap back to amazon a...              NaN   \n",
       "\n",
       "     reviews.userProvince    reviews.username  sizes upc     weight  \n",
       "0                     NaN          Cristina M    NaN NaN  205 grams  \n",
       "1                     NaN               Ricky    NaN NaN  205 grams  \n",
       "2                     NaN       Tedd Gardiner    NaN NaN  205 grams  \n",
       "3                     NaN              Dougal    NaN NaN  205 grams  \n",
       "4                     NaN  Miljan David Tanic    NaN NaN  205 grams  \n",
       "...                   ...                 ...    ...  ..        ...  \n",
       "1592                  NaN     GregAmandawith4    NaN NaN   4 ounces  \n",
       "1593                  NaN     Amazon Customer    NaN NaN   4 ounces  \n",
       "1594                  NaN     Amazon Customer    NaN NaN   4 ounces  \n",
       "1595                  NaN          Meg Ashley    NaN NaN   4 ounces  \n",
       "1596                  NaN             DIANE K    NaN NaN   4 ounces  \n",
       "\n",
       "[1597 rows x 27 columns]"
      ]
     },
     "execution_count": 100,
     "metadata": {},
     "output_type": "execute_result"
    }
   ],
   "source": [
    "data"
   ]
  },
  {
   "cell_type": "markdown",
   "id": "9d1d6dcb-a2bd-4fd4-958b-dbf69afe6f4f",
   "metadata": {},
   "source": [
    "Clean the data by removing missing values or duplicates"
   ]
  },
  {
   "cell_type": "code",
   "execution_count": 101,
   "id": "a896fd85-abe1-40c7-af7e-4d4a7d2384fb",
   "metadata": {},
   "outputs": [],
   "source": [
    "4. #Data Cleaning\n",
    "data.drop_duplicates(inplace=True)\n",
    "data.dropna(subset=['reviews.text', 'reviews.rating'], inplace=True)"
   ]
  },
  {
   "cell_type": "markdown",
   "id": "05349cda-f23a-4b40-8ed1-bd6b9f9376bb",
   "metadata": {},
   "source": [
    "Preprocess the text with tokenization, lowercasing, and removing stop words using NLTK"
   ]
  },
  {
   "cell_type": "code",
   "execution_count": 102,
   "id": "1235aa07-b494-4205-b518-777a3b50a606",
   "metadata": {},
   "outputs": [],
   "source": [
    "# 5. Preprocessing\n",
    "def preprocess_text(text):\n",
    "    tokens = word_tokenize(text.lower())  # Tokenize and lowercase\n",
    "    stop_words = set(stopwords.words('english'))\n",
    "    filtered_tokens = [word for word in tokens if word.isalpha() and word not in stop_words]\n",
    "    return ' '.join(filtered_tokens)"
   ]
  },
  {
   "cell_type": "code",
   "execution_count": 103,
   "id": "aeaa87c2-873f-47ec-a1ec-d233067fc2ce",
   "metadata": {},
   "outputs": [],
   "source": [
    "# Ensure the 'reviews.text' column exists\n",
    "data = data.rename(columns=lambda x: x.strip())  # Strip column names to avoid leading/trailing spaces\n",
    "if 'reviews.text' in data.columns:\n",
    "    data['cleaned_review'] = data['reviews.text'].apply(preprocess_text)  # Update 'reviews.text' to your column name\n",
    "else:\n",
    "    raise ValueError(\"Column 'reviews.text' is missing in the dataset.\")"
   ]
  },
  {
   "cell_type": "markdown",
   "id": "7cc5a0a0-9456-4e8d-b418-cbeed5d9f363",
   "metadata": {},
   "source": [
    "Label sentiment categories as Positive, Negative, or Neutral based on review ratings"
   ]
  },
  {
   "cell_type": "code",
   "execution_count": 104,
   "id": "66595558-b564-4261-9764-7708ed61b808",
   "metadata": {},
   "outputs": [],
   "source": [
    "# 6. Label Sentiment\n",
    "# Assume rating column has values from 1-5, where 1-2 = Negative, 3 = Neutral, 4-5 = Positive\n",
    "def label_sentiment(rating):\n",
    "    if rating <= 2:\n",
    "        return 'Negative'\n",
    "    elif rating == 3:\n",
    "        return 'Neutral'\n",
    "    else:\n",
    "        return 'Positive'\n",
    "\n",
    "if 'reviews.rating' in data.columns:\n",
    "    data['sentiment'] = data['reviews.rating'].apply(label_sentiment)\n",
    "else:\n",
    "    raise ValueError(\"Column 'reviews.rating' is missing in the dataset.\")\n"
   ]
  },
  {
   "cell_type": "markdown",
   "id": "0dcef0f0-3e23-48e4-ab98-2ade27a2cfda",
   "metadata": {},
   "source": [
    "Convert text to numerical features using TF-IDF"
   ]
  },
  {
   "cell_type": "code",
   "execution_count": 105,
   "id": "5dffad20-33cf-4271-baa3-70e2687408d4",
   "metadata": {},
   "outputs": [],
   "source": [
    "# 7. Convert Text to Numerical Features\n",
    "if not data['cleaned_review'].str.strip().replace('', pd.NA).isna().all():\n",
    "    vectorizer = TfidfVectorizer(max_features=5000)\n",
    "    X = vectorizer.fit_transform(data['cleaned_review']).toarray()\n",
    "    y = data['sentiment']\n",
    "else:\n",
    "    raise ValueError(\"Cleaned reviews result in an empty vocabulary. Ensure valid data is present.\")"
   ]
  },
  {
   "cell_type": "markdown",
   "id": "933f0280-db82-4a45-87e5-f78b8d7bc2fc",
   "metadata": {},
   "source": [
    "Split the dataset into training and testing sets with\n",
    "train_test_split"
   ]
  },
  {
   "cell_type": "code",
   "execution_count": 106,
   "id": "7afd0ef8-a707-473f-9c34-3e0be252b7ef",
   "metadata": {},
   "outputs": [],
   "source": [
    "# 8. Split Dataset\n",
    "X_train, X_test, y_train, y_test = train_test_split(X, y, test_size=0.2, random_state=42)"
   ]
  },
  {
   "cell_type": "markdown",
   "id": "9ba4f9cb-1171-4d47-bbc8-93b195348083",
   "metadata": {},
   "source": [
    "Train a classifier using Logistic Regression"
   ]
  },
  {
   "cell_type": "code",
   "execution_count": 107,
   "id": "5d9fa3e5-1170-4972-b4d2-6b78b8c7859e",
   "metadata": {},
   "outputs": [
    {
     "data": {
      "text/html": [
       "<style>#sk-container-id-3 {color: black;background-color: white;}#sk-container-id-3 pre{padding: 0;}#sk-container-id-3 div.sk-toggleable {background-color: white;}#sk-container-id-3 label.sk-toggleable__label {cursor: pointer;display: block;width: 100%;margin-bottom: 0;padding: 0.3em;box-sizing: border-box;text-align: center;}#sk-container-id-3 label.sk-toggleable__label-arrow:before {content: \"▸\";float: left;margin-right: 0.25em;color: #696969;}#sk-container-id-3 label.sk-toggleable__label-arrow:hover:before {color: black;}#sk-container-id-3 div.sk-estimator:hover label.sk-toggleable__label-arrow:before {color: black;}#sk-container-id-3 div.sk-toggleable__content {max-height: 0;max-width: 0;overflow: hidden;text-align: left;background-color: #f0f8ff;}#sk-container-id-3 div.sk-toggleable__content pre {margin: 0.2em;color: black;border-radius: 0.25em;background-color: #f0f8ff;}#sk-container-id-3 input.sk-toggleable__control:checked~div.sk-toggleable__content {max-height: 200px;max-width: 100%;overflow: auto;}#sk-container-id-3 input.sk-toggleable__control:checked~label.sk-toggleable__label-arrow:before {content: \"▾\";}#sk-container-id-3 div.sk-estimator input.sk-toggleable__control:checked~label.sk-toggleable__label {background-color: #d4ebff;}#sk-container-id-3 div.sk-label input.sk-toggleable__control:checked~label.sk-toggleable__label {background-color: #d4ebff;}#sk-container-id-3 input.sk-hidden--visually {border: 0;clip: rect(1px 1px 1px 1px);clip: rect(1px, 1px, 1px, 1px);height: 1px;margin: -1px;overflow: hidden;padding: 0;position: absolute;width: 1px;}#sk-container-id-3 div.sk-estimator {font-family: monospace;background-color: #f0f8ff;border: 1px dotted black;border-radius: 0.25em;box-sizing: border-box;margin-bottom: 0.5em;}#sk-container-id-3 div.sk-estimator:hover {background-color: #d4ebff;}#sk-container-id-3 div.sk-parallel-item::after {content: \"\";width: 100%;border-bottom: 1px solid gray;flex-grow: 1;}#sk-container-id-3 div.sk-label:hover label.sk-toggleable__label {background-color: #d4ebff;}#sk-container-id-3 div.sk-serial::before {content: \"\";position: absolute;border-left: 1px solid gray;box-sizing: border-box;top: 0;bottom: 0;left: 50%;z-index: 0;}#sk-container-id-3 div.sk-serial {display: flex;flex-direction: column;align-items: center;background-color: white;padding-right: 0.2em;padding-left: 0.2em;position: relative;}#sk-container-id-3 div.sk-item {position: relative;z-index: 1;}#sk-container-id-3 div.sk-parallel {display: flex;align-items: stretch;justify-content: center;background-color: white;position: relative;}#sk-container-id-3 div.sk-item::before, #sk-container-id-3 div.sk-parallel-item::before {content: \"\";position: absolute;border-left: 1px solid gray;box-sizing: border-box;top: 0;bottom: 0;left: 50%;z-index: -1;}#sk-container-id-3 div.sk-parallel-item {display: flex;flex-direction: column;z-index: 1;position: relative;background-color: white;}#sk-container-id-3 div.sk-parallel-item:first-child::after {align-self: flex-end;width: 50%;}#sk-container-id-3 div.sk-parallel-item:last-child::after {align-self: flex-start;width: 50%;}#sk-container-id-3 div.sk-parallel-item:only-child::after {width: 0;}#sk-container-id-3 div.sk-dashed-wrapped {border: 1px dashed gray;margin: 0 0.4em 0.5em 0.4em;box-sizing: border-box;padding-bottom: 0.4em;background-color: white;}#sk-container-id-3 div.sk-label label {font-family: monospace;font-weight: bold;display: inline-block;line-height: 1.2em;}#sk-container-id-3 div.sk-label-container {text-align: center;}#sk-container-id-3 div.sk-container {/* jupyter's `normalize.less` sets `[hidden] { display: none; }` but bootstrap.min.css set `[hidden] { display: none !important; }` so we also need the `!important` here to be able to override the default hidden behavior on the sphinx rendered scikit-learn.org. See: https://github.com/scikit-learn/scikit-learn/issues/21755 */display: inline-block !important;position: relative;}#sk-container-id-3 div.sk-text-repr-fallback {display: none;}</style><div id=\"sk-container-id-3\" class=\"sk-top-container\"><div class=\"sk-text-repr-fallback\"><pre>LogisticRegression(max_iter=1000)</pre><b>In a Jupyter environment, please rerun this cell to show the HTML representation or trust the notebook. <br />On GitHub, the HTML representation is unable to render, please try loading this page with nbviewer.org.</b></div><div class=\"sk-container\" hidden><div class=\"sk-item\"><div class=\"sk-estimator sk-toggleable\"><input class=\"sk-toggleable__control sk-hidden--visually\" id=\"sk-estimator-id-3\" type=\"checkbox\" checked><label for=\"sk-estimator-id-3\" class=\"sk-toggleable__label sk-toggleable__label-arrow\">LogisticRegression</label><div class=\"sk-toggleable__content\"><pre>LogisticRegression(max_iter=1000)</pre></div></div></div></div></div>"
      ],
      "text/plain": [
       "LogisticRegression(max_iter=1000)"
      ]
     },
     "execution_count": 107,
     "metadata": {},
     "output_type": "execute_result"
    }
   ],
   "source": [
    "# 9. Train Classifier\n",
    "model = LogisticRegression(max_iter=1000)\n",
    "model.fit(X_train, y_train)"
   ]
  },
  {
   "cell_type": "markdown",
   "id": "e1242462-45c4-4e63-b419-a71393fc14c8",
   "metadata": {},
   "source": [
    "Evaluate the model's performance using metrics like accuracy, precision, recall, and F1-score"
   ]
  },
  {
   "cell_type": "code",
   "execution_count": 108,
   "id": "1f1fb6d3-b685-44cb-9d58-a1a87f13ed94",
   "metadata": {},
   "outputs": [
    {
     "name": "stderr",
     "output_type": "stream",
     "text": [
      "/opt/anaconda3/lib/python3.11/site-packages/sklearn/metrics/_classification.py:1344: UndefinedMetricWarning: Precision is ill-defined and being set to 0.0 in labels with no predicted samples. Use `zero_division` parameter to control this behavior.\n",
      "  _warn_prf(average, modifier, msg_start, len(result))\n"
     ]
    }
   ],
   "source": [
    "# 10. Evaluate Model\n",
    "y_pred = model.predict(X_test)\n",
    "accuracy = accuracy_score(y_test, y_pred)\n",
    "precision = precision_score(y_test, y_pred, average='weighted')\n",
    "recall = recall_score(y_test, y_pred, average='weighted')\n",
    "f1 = f1_score(y_test, y_pred, average='weighted')\n",
    "conf_matrix = confusion_matrix(y_test, y_pred, labels=['Positive', 'Neutral', 'Negative'])\n"
   ]
  },
  {
   "cell_type": "code",
   "execution_count": 109,
   "id": "28afdc40-d356-4db7-bfc0-fc30bee77e0d",
   "metadata": {},
   "outputs": [
    {
     "name": "stdout",
     "output_type": "stream",
     "text": [
      "Accuracy: 0.8898305084745762\n",
      "Precision: 0.8389455527223638\n",
      "Recall: 0.8898305084745762\n",
      "F1-Score: 0.8531432810458524\n"
     ]
    }
   ],
   "source": [
    "print(f\"Accuracy: {accuracy}\")\n",
    "print(f\"Precision: {precision}\")\n",
    "print(f\"Recall: {recall}\")\n",
    "print(f\"F1-Score: {f1}\")"
   ]
  },
  {
   "cell_type": "markdown",
   "id": "14acd55c-97fb-4b9e-b7cd-ae94f0db40f3",
   "metadata": {},
   "source": [
    "Visualize results with confusion matrices and sentiment distribution plots"
   ]
  },
  {
   "cell_type": "code",
   "execution_count": 110,
   "id": "f0b4eb7d-8384-4409-8591-21766b5cc68a",
   "metadata": {},
   "outputs": [
    {
     "data": {
      "image/png": "[encoded data removed]",
      "text/plain": [
       "<Figure size 800x600 with 2 Axes>"
      ]
     },
     "metadata": {},
     "output_type": "display_data"
    }
   ],
   "source": [
    "# 11. Visualize Results\n",
    "plt.figure(figsize=(8, 6))\n",
    "sns.heatmap(conf_matrix, annot=True, fmt='d', cmap='Blues', xticklabels=['Positive', 'Neutral', 'Negative'], yticklabels=['Positive', 'Neutral', 'Negative'])\n",
    "plt.xlabel('Predicted')\n",
    "plt.ylabel('Actual')\n",
    "plt.title('Confusion Matrix')\n",
    "plt.show()"
   ]
  },
  {
   "cell_type": "code",
   "execution_count": 112,
   "id": "7eaab2cc-f394-486e-ab07-3407db585538",
   "metadata": {},
   "outputs": [
    {
     "name": "stdout",
     "output_type": "stream",
     "text": [
      "Column 'Sentiment' does not exist.\n"
     ]
    }
   ],
   "source": [
    "# Sentiment distribution\n",
    "if 'Sentiment' in data.columns:\n",
    "    sentiment_counts = data['Sentiment'].value_counts()\n",
    "    plt.figure(figsize=(6, 4))\n",
    "    sentiment_counts.plot(kind='bar', color=['green', 'blue', 'red'])\n",
    "    plt.title('Sentiment Distribution')\n",
    "    plt.xlabel('Sentiment')\n",
    "    plt.ylabel('Count')\n",
    "    plt.show()\n",
    "else:\n",
    "    print(\"Column 'Sentiment' does not exist.\")\n"
   ]
  },
  {
   "cell_type": "code",
   "execution_count": 113,
   "id": "0ce2357a-880d-4e14-bcbe-fe1a1228df00",
   "metadata": {},
   "outputs": [],
   "source": [
    "14.# Save Results\n",
    "data[['reviews.text', 'cleaned_review', 'sentiment']].to_csv('processed_reviews.csv', index=False)\n"
   ]
  },
  {
   "cell_type": "code",
   "execution_count": null,
   "id": "c4373ef9-ecd1-4ed8-a365-538d8c05bc5b",
   "metadata": {},
   "outputs": [],
   "source": []
  }
 ],
 "metadata": {
  "kernelspec": {
   "display_name": "myenv",
   "language": "python",
   "name": "myenv"
  },
  "language_info": {
   "codemirror_mode": {
    "name": "ipython",
    "version": 3
   },
   "file_extension": ".py",
   "mimetype": "text/x-python",
   "name": "python",
   "nbconvert_exporter": "python",
   "pygments_lexer": "ipython3",
   "version": "3.11.7"
  }
 },
 "nbformat": 4,
 "nbformat_minor": 5
}
